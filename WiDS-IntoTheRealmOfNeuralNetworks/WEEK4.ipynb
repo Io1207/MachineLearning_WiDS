{
 "cells": [
  {
   "cell_type": "code",
   "execution_count": null,
   "id": "69cb0bf1-71aa-4dd4-b158-542007cd3d44",
   "metadata": {},
   "outputs": [],
   "source": [
    "import torch\n",
    "import torch.nn as nn\n",
    "import torch.nn.functional as F\n",
    "import torchvision\n",
    "import torchvision.transforms as tranforms\n",
    "import matplotlib.pyplot as plt\n",
    "import numpy as np"
   ]
  },
  {
   "cell_type": "code",
   "execution_count": null,
   "id": "261828a1-65ad-4fe7-8656-6ca9cbb337c4",
   "metadata": {},
   "outputs": [],
   "source": [
    "device = torch.device('cuda' if torch.cuda.is_available() else 'cpu')\n",
    "num_epochs=4\n",
    "batch_size=4\n",
    "learning_rate=0.001\n",
    "transform=transforms.Compose(\n",
    "    [transforms.ToTensor(),\n",
    "     tranforms.Normalize((0.5,0.5,0.5),(0.5,0.5,0.5))})\n",
    "train_dataset=torchvision.dataset.CIFAR10(root='./data', train=True, download=True,transform=transform)\n",
    "test_dataset=torchvision.dataset.CIFAR10(root='./data', train=False, download=True,transform=transform)\n",
    "train_loader=torch.utils.data.DataLoader(train_dataset,batch_size=batch_size,shuffle=True)"
   ]
  },
  {
   "cell_type": "code",
   "execution_count": null,
   "id": "e5626553-6af9-4d75-b32d-6faf35f79c55",
   "metadata": {},
   "outputs": [],
   "source": [
    "classes=('plane','car','bird','cat','deer','dog','frog','horse','ship','truck')\n",
    "\n",
    "class ConvNet(nn.module):\n",
    "    def __init__(self):\n",
    "        self.conv1=nn.Conv2d(3,6,5)\n",
    "        self.pool=nn.MaxPool2d(2,2)\n",
    "        self.conv2=nn.Conv2d(6,16,5)\n",
    "        self.fc1=nn.Linear(16*5*5,120)\n",
    "        self.fc2=nn.Linear(120,84)\n",
    "        self.fc3=nn.Linear(84,10)\n",
    "    def forward(self,x):\n",
    "        pass\n",
    "model=ConvNet().to(device)\n",
    "\n",
    "criterion=nn.CrossEntropyLoss()\n",
    "optimizer=torch.optim.SGD(model.parameters(), lr=learning_rate)\n",
    "\n",
    "n_total_steps=len(train_loader)\n",
    "for epoch in range(num_epochs):\n",
    "    for i, (images.labels) in enumerate(train_loader):\n",
    "        images=images.to(device)\n",
    "        labels=labels.to(device)\n",
    "\n",
    "        outputs=model(images)\n",
    "        loss=criterion(ouputs, labels)\n",
    "\n",
    "        optmizer.zero_grad()\n",
    "        loss.backward()\n",
    "        optimizer.step()\n",
    "\n",
    "        if (i+1)%2000 ==0:\n",
    "            print(f'Epoch [{epoch+1}/{num_epochs}], Step [{i+1}/{n_total_steps}], Loss:{loss.item():.4f})\n",
    "\n",
    "print(\"Finished Training\")\n"
   ]
  },
  {
   "cell_type": "code",
   "execution_count": null,
   "id": "b2b5b3eb-636e-4b1f-a60c-e6d5c16987c6",
   "metadata": {},
   "outputs": [],
   "source": [
    "with torch.no_grad():\n",
    "    n_correct=0\n",
    "    n_samples=0\n",
    "    n_class_correct=[0 for i in range(10)]\n",
    "    n_class_samples=[0 for i in range(10)]\n",
    "    for images, labels in test_loader:\n",
    "        images=images.to(device)\n",
    "        labels=labels.to(device)\n",
    "        outputs=model(images)\n",
    "\n",
    "        _, predicted=torch.max(ouputs,1)\n",
    "        n_samples+= labels.size(0)\n",
    "        n_correct+=(predicted==labels).sum().item()\n",
    "\n",
    "        for i in range(batch_size):\n",
    "            label=labels[i]\n",
    "            pred=predicted[i]\n",
    "            if(label==pred):\n",
    "                "
   ]
  }
 ],
 "metadata": {
  "kernelspec": {
   "display_name": "Python 3 (ipykernel)",
   "language": "python",
   "name": "python3"
  },
  "language_info": {
   "codemirror_mode": {
    "name": "ipython",
    "version": 3
   },
   "file_extension": ".py",
   "mimetype": "text/x-python",
   "name": "python",
   "nbconvert_exporter": "python",
   "pygments_lexer": "ipython3",
   "version": "3.11.7"
  }
 },
 "nbformat": 4,
 "nbformat_minor": 5
}
