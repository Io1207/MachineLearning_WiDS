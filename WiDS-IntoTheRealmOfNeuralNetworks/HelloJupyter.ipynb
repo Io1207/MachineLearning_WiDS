{
 "cells": [
  {
   "cell_type": "code",
   "execution_count": 16,
   "id": "33a82d48-b004-4e4b-aa60-fd85f3268421",
   "metadata": {},
   "outputs": [
    {
     "name": "stdout",
     "output_type": "stream",
     "text": [
      "385\n",
      "1704246936.7502415\n",
      "1704246936.7502415\n",
      "Time taken to complete computation the vectorised way is 0.0 s\n",
      "385\n",
      "1704246936.7502415\n",
      "1704246936.7502415\n",
      "Time taken to complete computation the non-vectorised way is 0.0 ms\n"
     ]
    }
   ],
   "source": [
    "'''\n",
    "import numpy as np\n",
    "import time\n",
    "w=np.array([1,2,3,4,5,6,7,8,9,10])\n",
    "b=np.array([1,2,3,4,5,6,7,8,9,10])\n",
    "start_v=time.time()\n",
    "x=np.dot(w,b)\n",
    "print(x)\n",
    "end_v=time.time()\n",
    "print(start_v)\n",
    "print(end_v)\n",
    "print(\"Time taken to complete computation the vectorised way is\",(end_v-start_v),\"s\")\n",
    "y=0\n",
    "start_nv=time.time()\n",
    "for j in range(0,10):\n",
    "    y=y+w[j]*b[j]\n",
    "print(y)\n",
    "end_nv=time.time()\n",
    "print(start_nv)\n",
    "print(end_nv)\n",
    "print(\"Time taken to complete computation the non-vectorised way is\",(end_nv-start_nv)*1000,\"ms\")\n",
    "'''"
   ]
  },
  {
   "cell_type": "code",
   "execution_count": null,
   "id": "c304a888-846f-4180-b545-4d9593f3077b",
   "metadata": {},
   "outputs": [],
   "source": [
    "'''w=np.random.rand(15)\n",
    "b=np.array(15)\n",
    "start_v=time.time()\n",
    "x=np.dot(w,b)\n",
    "end_v=time.time()\n",
    "print(start_v)\n",
    "print(end_v)\n",
    "print(\"Time taken to complete computation the vectorised way is\",(end_v-start_v),\"s\")\n",
    "y=0\n",
    "start_nv=time.time()\n",
    "for j in range(0,15):\n",
    "    y=y+w[j]*b[j]\n",
    "print(y)\n",
    "end_nv=time.time()\n",
    "print(start_nv)\n",
    "print(end_nv)\n",
    "print(\"Time taken to complete computation the non-vectorised way is\",(end_nv-start_nv)*1000,\"ms\")\n",
    "'''"
   ]
  },
  {
   "cell_type": "code",
   "execution_count": null,
   "id": "2a95530b-2c65-4123-990c-6e5184e31be4",
   "metadata": {},
   "outputs": [],
   "source": [
    "#importing required libraries\n",
    "import numpy as np\n",
    "import csv"
   ]
  },
  {
   "cell_type": "markdown",
   "id": "9ec078a4-44f8-4463-8d55-0e00835601e3",
   "metadata": {},
   "source": [
    "LINEAR REGRESSION"
   ]
  },
  {
   "cell_type": "code",
   "execution_count": 2,
   "id": "3a3ef554-782b-4d31-b3a7-122aea9370ac",
   "metadata": {},
   "outputs": [
    {
     "name": "stdout",
     "output_type": "stream",
     "text": [
      "John\n",
      "36\n"
     ]
    }
   ],
   "source": [
    "class Person:\n",
    "  def __init__(self, name, age):\n",
    "    self.name = name\n",
    "    self.age = age\n",
    "\n",
    "p1 = Person(\"John\", 36)\n",
    "\n",
    "print(p1.name)\n",
    "print(p1.age)"
   ]
  },
  {
   "cell_type": "code",
   "execution_count": 1,
   "id": "7dd184cd-10e9-4510-a6eb-2ce1a53fc812",
   "metadata": {},
   "outputs": [],
   "source": [
    "class Linear_Regression():\n",
    "    def init(self, learningRate, noOfIterations): #initialising the parameters\n",
    "        self.learningRate=learningRate\n",
    "        self.noOfIterations=noOfIterations\n",
    "    \n",
    "    def fit(self,x,y): #\n",
    "        self.m, self.n=x.shape #m=no of rows/training examples, n=no of columns/features\n",
    "        #initiating w as a null matrix with n columns and b=0\n",
    "        self.w=np.zeros(self.n)\n",
    "        self.b=0\n",
    "\n",
    "        self.x=x\n",
    "        self.y=y\n",
    "        #gradient descent implementation\n",
    "        for i in range(self.noOfIterations):\n",
    "            self.updateWeight()\n",
    "    \n",
    "    def updateWeight(self):\n",
    "        Y_prediction = self.predict(self.x)\n",
    "\n",
    "        # calculate gradients\n",
    "\n",
    "        dw = - ((self.x).dot(self.y - yPrediction)) / self.m\n",
    "\n",
    "        db = - np.sum(self.y - yPrediction)/self.m\n",
    "\n",
    "        # upadating the weights\n",
    "    \n",
    "        self.w = self.w + self.learningRate*dw #check the sign\n",
    "        self.b = selb.b + self.learningRate*db #check the sign\n",
    "\n",
    "    def predict():\n",
    "        return x.dot(self.w)+self.b    "
   ]
  },
  {
   "cell_type": "code",
   "execution_count": null,
   "id": "0803bd03-7a0f-47d0-a491-81a999f4534b",
   "metadata": {},
   "outputs": [],
   "source": []
  }
 ],
 "metadata": {
  "kernelspec": {
   "display_name": "Python 3 (ipykernel)",
   "language": "python",
   "name": "python3"
  },
  "language_info": {
   "codemirror_mode": {
    "name": "ipython",
    "version": 3
   },
   "file_extension": ".py",
   "mimetype": "text/x-python",
   "name": "python",
   "nbconvert_exporter": "python",
   "pygments_lexer": "ipython3",
   "version": "3.12.1"
  }
 },
 "nbformat": 4,
 "nbformat_minor": 5
}
