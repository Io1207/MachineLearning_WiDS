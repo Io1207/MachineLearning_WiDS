{
 "cells": [
  {
   "cell_type": "code",
   "execution_count": 62,
   "id": "0c199553-86c0-4159-9d3b-b746ee9cd31f",
   "metadata": {},
   "outputs": [],
   "source": [
    "import torch\n",
    "import torchvision\n",
    "from torchvision import transforms, datasets\n",
    "import matplotlib.pyplot as plt\n",
    "import torch.nn as nn\n",
    "import torch.nn.functional as F\n",
    "import torch.optim as optim\n",
    "import time\n",
    "import pickle as pkl"
   ]
  },
  {
   "cell_type": "code",
   "execution_count": 21,
   "id": "b53a578a-46b7-4565-bd52-324e43041161",
   "metadata": {},
   "outputs": [],
   "source": [
    "'''\n",
    "#the dataset that is used to train the model\n",
    "train=datasets.MNIST(\"\",train=True,download=True,transform=transforms.Compose([transforms.ToTensor()]))\n",
    "\n",
    "\n",
    "#data used to test the model (not a part of your actual data sample to detect overfitting)\n",
    "test=datasets.MNIST(\"\",train=False,download=True,transform=transforms.Compose([transforms.ToTensor()]))\n",
    "'''"
   ]
  },
  {
   "cell_type": "code",
   "execution_count": 64,
   "id": "bc16422b-0d79-427a-8d67-2870adf469ba",
   "metadata": {},
   "outputs": [],
   "source": [
    "with open('C:/Users/HP/OneDrive/Desktop/MNIST_data/MNIST_data.pkl', 'rb') as f:\n",
    "    data = pkl.load(f)\n",
    "    trainX,trainY=data"
   ]
  },
  {
   "cell_type": "code",
   "execution_count": 32,
   "id": "57877305-c5b7-466b-8b25-bb0b1124221f",
   "metadata": {},
   "outputs": [],
   "source": [
    "trainingSet=torch.utils.data.DataLoader(,batch_size=10,shuffle=True)\n",
    "#batch size means the no. of data points you are passing to your model in one go\n",
    "\n",
    "testingSet=torch.utils.data.DataLoader(test,batch_size=32,shuffle=True) "
   ]
  },
  {
   "cell_type": "code",
   "execution_count": 33,
   "id": "7c133486-25d0-4d4c-8848-1e969cd0ad1c",
   "metadata": {},
   "outputs": [
    {
     "data": {
      "text/plain": [
       "'\\nfor data in trainingSet:\\n    print(data)\\n    break\\n'"
      ]
     },
     "execution_count": 33,
     "metadata": {},
     "output_type": "execute_result"
    }
   ],
   "source": [
    "'''\n",
    "for data in trainingSet:\n",
    "    print(data)\n",
    "    break\n",
    "'''"
   ]
  },
  {
   "cell_type": "code",
   "execution_count": 34,
   "id": "d5f0bbfd-9b0a-4ba5-b0dd-77a63d1c99a0",
   "metadata": {},
   "outputs": [],
   "source": [
    "#x,y=data[0][0],data[1][0]\n",
    "#print(y)"
   ]
  },
  {
   "cell_type": "code",
   "execution_count": 35,
   "id": "40a64c7a-6512-44d3-b419-0d05348ccd98",
   "metadata": {},
   "outputs": [],
   "source": [
    "#plt.imshow(data[0][3].view(28,28))\n",
    "#plt.show()"
   ]
  },
  {
   "cell_type": "code",
   "execution_count": 36,
   "id": "7c6d0534-fa3c-446c-8719-01e5036b06d4",
   "metadata": {},
   "outputs": [
    {
     "data": {
      "text/plain": [
       "'\\ntotal=0\\ncounterDict={0:0,1:0,2:0,3:0,4:0,5:0,6:0,7:0,8:0,9:0}\\nfor data in trainingSet:\\n    xs,ys = data\\n    for y in ys:\\n        counterDict[int(y)] +=1\\n        total+=1\\nprint(counterDict)    \\nfor i in counterDict:\\n    print(\"Percentage of data corresponding to\",i,\"is\",counterDict[i]/total*100)\\n'"
      ]
     },
     "execution_count": 36,
     "metadata": {},
     "output_type": "execute_result"
    }
   ],
   "source": [
    "#what is balancing?: trying to make sure that the examples present in your dataset are all unformly  \n",
    "#distributed don't have too much amongst the possible outcomes and data corresponding to a specific class\n",
    "'''\n",
    "total=0\n",
    "counterDict={0:0,1:0,2:0,3:0,4:0,5:0,6:0,7:0,8:0,9:0}\n",
    "for data in trainingSet:\n",
    "    xs,ys = data\n",
    "    for y in ys:\n",
    "        counterDict[int(y)] +=1\n",
    "        total+=1\n",
    "print(counterDict)    \n",
    "for i in counterDict:\n",
    "    print(\"Percentage of data corresponding to\",i,\"is\",counterDict[i]/total*100)\n",
    "'''"
   ]
  },
  {
   "cell_type": "code",
   "execution_count": 37,
   "id": "2267da10-af29-4f69-8307-9222e2c7066c",
   "metadata": {},
   "outputs": [
    {
     "name": "stdout",
     "output_type": "stream",
     "text": [
      "Net(\n",
      "  (fc1): Linear(in_features=784, out_features=64, bias=True)\n",
      "  (fc2): Linear(in_features=64, out_features=64, bias=True)\n",
      "  (fc3): Linear(in_features=64, out_features=64, bias=True)\n",
      "  (fc4): Linear(in_features=64, out_features=10, bias=True)\n",
      ")\n"
     ]
    }
   ],
   "source": [
    "class Net(nn.Module):\n",
    "    def __init__(self):\n",
    "        super().__init__()\n",
    "        #we are trying to make a neural network with 3 layer with 64 neurons each \n",
    "        self.fc1=nn.Linear(784,64)#fc1:fully connected layer 1, 784 because the image is 28*28, 64 is the number of neurons\n",
    "        self.fc2=nn.Linear(64,64)\n",
    "        self.fc3=nn.Linear(64,64)\n",
    "        self.fc4=nn.Linear(64,10)\n",
    "    def forward(self,x):#to define the flow of data through the network\n",
    "        #here we could put conditional statements to create branches in the neural network\n",
    "        x=F.relu(self.fc1(x)) \n",
    "        x=F.relu(self.fc2(x))\n",
    "        x=F.relu(self.fc3(x))\n",
    "        x=self.fc4(x) \n",
    "        return F.log_softmax(x,dim=1) \n",
    "net=Net()\n",
    "print(net)"
   ]
  },
  {
   "cell_type": "code",
   "execution_count": 38,
   "id": "d7a5820f-f5c3-45c3-a36a-2931b93ae7e2",
   "metadata": {},
   "outputs": [],
   "source": [
    "X = torch.rand((28,28))\n",
    "#plt.imshow(X)\n",
    "#plt.show()\n",
    "X=X.view(-1,28*28)"
   ]
  },
  {
   "cell_type": "code",
   "execution_count": 39,
   "id": "448a87fa-6a4c-42f3-87d3-03657af6ec82",
   "metadata": {},
   "outputs": [
    {
     "name": "stdout",
     "output_type": "stream",
     "text": [
      "tensor([[-2.2580, -2.3497, -2.2120, -2.1728, -2.3736, -2.3153, -2.3403, -2.3583,\n",
      "         -2.3025, -2.3652]], grad_fn=<LogSoftmaxBackward0>)\n"
     ]
    }
   ],
   "source": [
    "output=net(X)\n",
    "print(output)"
   ]
  },
  {
   "cell_type": "code",
   "execution_count": 45,
   "id": "1f74e0d3-8eef-4ea8-ac5c-1331487277ae",
   "metadata": {},
   "outputs": [
    {
     "name": "stdout",
     "output_type": "stream",
     "text": [
      "tensor(0.0157, grad_fn=<NllLossBackward0>)\n",
      "tensor(0.1187, grad_fn=<NllLossBackward0>)\n",
      "tensor(0.0002, grad_fn=<NllLossBackward0>)\n"
     ]
    }
   ],
   "source": [
    "optimizer=optim.Adam(net.parameters(),lr=0.001)\n",
    "EPOCHS=3 #EPOCH refers to the number of times you run through your entire data\n",
    "for epoch in range(EPOCHS):\n",
    "    for data in trainingSet:\n",
    "        #data is a batch of featuresets and labels\n",
    "        X,y=data\n",
    "        #print(X[0])\n",
    "        #print(y[0])\n",
    "        net.zero_grad()\n",
    "        output=net(X.view(-1,28*28))\n",
    "        loss=F.nll_loss(output,y) #when our data isn't a one hot vector, we calculate loss like this\n",
    "        loss.backward()\n",
    "        optimizer.step()\n",
    "    print(loss)"
   ]
  },
  {
   "cell_type": "code",
   "execution_count": 48,
   "id": "ac7c3788-fe55-4f9e-a147-1fceabdbeb15",
   "metadata": {},
   "outputs": [
    {
     "name": "stdout",
     "output_type": "stream",
     "text": [
      "Accuracy: 0.992\n"
     ]
    }
   ],
   "source": [
    "correct=0\n",
    "total=0\n",
    "\n",
    "with torch.no_grad():\n",
    "    for data in trainingSet:\n",
    "        X,y=data\n",
    "        output=net(X.view(-1,28*28))\n",
    "        for idx,i in enumerate(output):\n",
    "            if torch.argmax(i)==y[idx]:\n",
    "                correct += 1\n",
    "            total += 1\n",
    "\n",
    "print(\"Accuracy:\",round(correct/total,3))"
   ]
  },
  {
   "cell_type": "code",
   "execution_count": 60,
   "id": "ffbb2e1f-a9a4-4ae4-9df5-2e27a8db09fe",
   "metadata": {},
   "outputs": [
    {
     "data": {
      "image/png": "[encoded data removed]",
      "text/plain": [
       "<Figure size 640x480 with 1 Axes>"
      ]
     },
     "metadata": {},
     "output_type": "display_data"
    }
   ],
   "source": [
    "plt.imshow(X[9].view(28,28))\n",
    "plt.show()"
   ]
  },
  {
   "cell_type": "code",
   "execution_count": 61,
   "id": "47aa923a-d2ba-4468-a62b-bc94b2dcdd2d",
   "metadata": {},
   "outputs": [
    {
     "name": "stdout",
     "output_type": "stream",
     "text": [
      "tensor(7)\n"
     ]
    }
   ],
   "source": [
    "print(torch.argmax(net(X[9].view(-1,28*28))[0]))"
   ]
  },
  {
   "cell_type": "code",
   "execution_count": null,
   "id": "abb205cc-e582-4608-80c7-e8ad3aadfb0b",
   "metadata": {},
   "outputs": [],
   "source": []
  }
 ],
 "metadata": {
  "kernelspec": {
   "display_name": "Python 3 (ipykernel)",
   "language": "python",
   "name": "python3"
  },
  "language_info": {
   "codemirror_mode": {
    "name": "ipython",
    "version": 3
   },
   "file_extension": ".py",
   "mimetype": "text/x-python",
   "name": "python",
   "nbconvert_exporter": "python",
   "pygments_lexer": "ipython3",
   "version": "3.11.7"
  }
 },
 "nbformat": 4,
 "nbformat_minor": 5
}
