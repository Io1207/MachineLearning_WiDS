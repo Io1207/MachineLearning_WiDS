{
 "cells": [
  {
   "cell_type": "markdown",
   "id": "26dcec6b-7f18-43d3-b247-f06515c8206f",
   "metadata": {},
   "source": [
    "__LOGISTIC REGRESSION__"
   ]
  },
  {
   "cell_type": "code",
   "execution_count": null,
   "id": "1732b193-fe82-47f0-8a55-7a3cbf565d22",
   "metadata": {},
   "outputs": [],
   "source": [
    "import numpy as np\n",
    "import csv\n",
    "import math\n",
    "'''\n",
    "f(x)=1/(1+e^-z)\n",
    "z=w.V+b where w,X are vectorised arrays\n",
    "'''"
   ]
  },
  {
   "cell_type": "code",
   "execution_count": 103,
   "id": "71b88a22-7908-498f-9444-cc74912f8fce",
   "metadata": {},
   "outputs": [],
   "source": [
    "class Logistic_Regression():\n",
    "    def __init__(self, learningRate, noOfIterations): #initialising the parameters\n",
    "        self.learningRate=learningRate\n",
    "        self.noOfIterations=noOfIterations\n",
    "    \n",
    "    def fit(self,x,y): #x is input feature, y is output feature\n",
    "        self.m, self.n=x.shape #m=no of rows/training examples, n=no of columns/features\n",
    "        #initiating w as a null matrix with n columns and b=0\n",
    "        self.w=np.zeros(self.n)\n",
    "        self.b=0\n",
    "        self.x=x.astype(float)\n",
    "        self.y=y.astype(float)\n",
    "        #gradient descent implementation\n",
    "        for i in range(self.noOfIterations):\n",
    "            self.updateWeight()\n",
    "        print(self.w)\n",
    "        print(self.b)\n",
    "    \n",
    "    def updateWeight(self):\n",
    "        z=-1*x.dot(self.w)+self.b #z=w.x+b\n",
    "        yPrediction = 1/(1+np.exp(z))  #sigmoid function\n",
    "        yPrediction=yPrediction.astype(float)\n",
    "\n",
    "        # calculate gradients\n",
    "\n",
    "        dw = (1/self.m)*(np.dot(self.x.T,(yPrediction-self.y)))\n",
    "\n",
    "        db = (1/self.m)*np.sum(yPrediction-self.y)\n",
    "\n",
    "        # upadating the weights\n",
    "    \n",
    "        self.w = self.w - self.learningRate*dw #check the sign\n",
    "        self.b = self.b- self.learningRate*db #check the sign\n",
    "\n",
    "    def predict(self):\n",
    "        z=-1*(x.dot(self.w))+self.b #z=wx+b\n",
    "        result=1/(1+np.exp(z))\n",
    "        if result>=0.5:\n",
    "            chd=1\n",
    "        elif result<0.5:\n",
    "            chd=0\n",
    "        return chd"
   ]
  },
  {
   "cell_type": "code",
   "execution_count": 104,
   "id": "7bfb9e89-f9af-474a-a475-e69d81a95f82",
   "metadata": {
    "scrolled": true
   },
   "outputs": [],
   "source": [
    "#reading the data from the file\n",
    "fields=[]\n",
    "rows=[]\n",
    "filePath=r'C:\\Users\\HP\\OneDrive\\Desktop\\DATA.csv'\n",
    "with open(filePath,'r') as data:\n",
    "    csvReader=csv.reader(data)\n",
    "    fields=next(csvReader)\n",
    "    for row in csvReader:\n",
    "        rows.append(row)  \n",
    "#for row in rows:\n",
    "#   for col in row:\n",
    "#        print(col,end=\" \")\n",
    "#    print()"
   ]
  },
  {
   "cell_type": "code",
   "execution_count": 105,
   "id": "ef0963bd-8004-4d27-89f9-43f460dc4c3b",
   "metadata": {},
   "outputs": [
    {
     "name": "stdout",
     "output_type": "stream",
     "text": [
      "[[  1.   39.    0.  195.  106.   77. ]\n",
      " [  0.   46.    0.  250.  121.   76. ]\n",
      " [  1.   48.   20.  245.  127.5  70. ]\n",
      " ...\n",
      " [  0.   48.   20.  248.  131.   86. ]\n",
      " [  0.   44.   15.  210.  126.5   0. ]\n",
      " [  0.   52.    0.  269.  133.5 107. ]]\n",
      "[0. 0. 0. ... 0. 0. 0.]\n"
     ]
    }
   ],
   "source": [
    "model=Logistic_Regression(.1,200)\n",
    "stats=np.array(rows)\n",
    "x=stats[:,[0,1,4,9,10,14]]\n",
    "x=x.astype(float)\n",
    "y=stats[:,-1]\n",
    "y=y.astype(float)\n",
    "print(x)\n",
    "print(y)"
   ]
  },
  {
   "cell_type": "code",
   "execution_count": 106,
   "id": "484bdeb4-d4cb-4a6d-9ae1-99c9fb17a76a",
   "metadata": {},
   "outputs": [
    {
     "name": "stdout",
     "output_type": "stream",
     "text": [
      "[ 0.1898406   1.10050611  2.03498625 -9.5866242  -1.83090336 -0.19756083]\n",
      "-0.2500585094077887\n"
     ]
    },
    {
     "name": "stderr",
     "output_type": "stream",
     "text": [
      "C:\\Users\\HP\\AppData\\Local\\Temp\\ipykernel_6360\\2706464309.py:21: RuntimeWarning: overflow encountered in exp\n",
      "  yPrediction = 1/(1+np.exp(z))  #sigmoid function\n"
     ]
    }
   ],
   "source": [
    "model.fit(x,y)"
   ]
  },
  {
   "cell_type": "code",
   "execution_count": null,
   "id": "bfae92dd-45a9-424c-adbc-4f41f2815228",
   "metadata": {},
   "outputs": [
    {
     "name": "stdin",
     "output_type": "stream",
     "text": [
      "Enter 1 if male, 0 otherwise 0\n",
      "Please input your age in years 18\n",
      "Please input no. of cigs you smoke per day 0\n",
      "Please input your total cholestrol level 190\n",
      "Please input your systolic blood pressure 129\n"
     ]
    }
   ],
   "source": [
    "sexMale=float(input(\"Enter 1 if male, 0 otherwise\"))\n",
    "age=float(input(\"Please input your age in years\"))\n",
    "cigsPerDay=float(input(\"Please input no. of cigs you smoke per day\"))\n",
    "totChol=float(input(\"Please input your total cholestrol level\"))\n",
    "sysBP=float(input(\"Please input your systolic blood pressure\"))\n",
    "glucose=float(input(\"Please input your glucose level\"))\n",
    "entry=np.array([sexMale,age,cigsPerDay,totChol,sysBP,glucose])\n",
    "ILML=np.array([ 0.1898406,1.10050611,2.03498625,-9.5866242,-1.83090336,-0.19756083])\n",
    "constant=-0.2500585094077887\n",
    "z=-1*(entry.dot(ILML))+model.b \n",
    "result=1/(1+np.exp(z))\n",
    "if result>=0.5:\n",
    "    chd=1\n",
    "elif result<0.5:\n",
    "    chd=0\n",
    "print(chd)"
   ]
  },
  {
   "cell_type": "code",
   "execution_count": null,
   "id": "19f7fb3f-2c68-4517-9002-d60f62361cd6",
   "metadata": {},
   "outputs": [],
   "source": []
  }
 ],
 "metadata": {
  "kernelspec": {
   "display_name": "Python 3 (ipykernel)",
   "language": "python",
   "name": "python3"
  },
  "language_info": {
   "codemirror_mode": {
    "name": "ipython",
    "version": 3
   },
   "file_extension": ".py",
   "mimetype": "text/x-python",
   "name": "python",
   "nbconvert_exporter": "python",
   "pygments_lexer": "ipython3",
   "version": "3.11.7"
  }
 },
 "nbformat": 4,
 "nbformat_minor": 5
}
